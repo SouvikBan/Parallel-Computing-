{
  "nbformat": 4,
  "nbformat_minor": 0,
  "metadata": {
    "colab": {
      "name": "Plots.ipynb",
      "provenance": [],
      "collapsed_sections": []
    },
    "kernelspec": {
      "name": "python3",
      "display_name": "Python 3"
    }
  },
  "cells": [
    {
      "cell_type": "code",
      "metadata": {
        "id": "GbCyazGmfUzp",
        "colab_type": "code",
        "colab": {}
      },
      "source": [
        "f = open('1Threads.txt', 'r')\n",
        "import numpy as np"
      ],
      "execution_count": 0,
      "outputs": []
    },
    {
      "cell_type": "code",
      "metadata": {
        "id": "gt3lnk2GkEIk",
        "colab_type": "code",
        "colab": {}
      },
      "source": [
        "X1 = np.zeros((500,100))"
      ],
      "execution_count": 0,
      "outputs": []
    },
    {
      "cell_type": "code",
      "metadata": {
        "id": "8XbAHaeafuU2",
        "colab_type": "code",
        "outputId": "ab356cac-7f79-4951-abd6-fa7a6ef397af",
        "colab": {
          "base_uri": "https://localhost:8080/",
          "height": 35
        }
      },
      "source": [
        "count = 0\n",
        "for row in f.readlines():\n",
        "  row = row.split('\\n')\n",
        "  # print(row)\n",
        "  for i in row:\n",
        "    index = 0\n",
        "    for j in i.split():\n",
        "      # print(j)\n",
        "      X1[count][index] = j\n",
        "      index+=1\n",
        "  # print(row.split())\n",
        "  count+=1\n",
        "print(count)"
      ],
      "execution_count": 63,
      "outputs": [
        {
          "output_type": "stream",
          "text": [
            "500\n"
          ],
          "name": "stdout"
        }
      ]
    },
    {
      "cell_type": "code",
      "metadata": {
        "id": "QZPi41l-gv1i",
        "colab_type": "code",
        "outputId": "b7db66d8-5cef-4bc9-a832-1273325cc298",
        "colab": {
          "base_uri": "https://localhost:8080/",
          "height": 146
        }
      },
      "source": [
        "print(X1)"
      ],
      "execution_count": 64,
      "outputs": [
        {
          "output_type": "stream",
          "text": [
            "[[ 0.  0.  0. ...  0.  0.  0.]\n",
            " [ 0.  0.  0. ...  0.  0.  0.]\n",
            " [ 0.  0.  0. ...  0.  0.  0.]\n",
            " ...\n",
            " [nan nan nan ... nan nan nan]\n",
            " [nan nan nan ... nan nan nan]\n",
            " [nan nan nan ... nan nan nan]]\n"
          ],
          "name": "stdout"
        }
      ]
    },
    {
      "cell_type": "code",
      "metadata": {
        "id": "Qy8jxe1KkqZk",
        "colab_type": "code",
        "outputId": "887147f1-e9d7-4bdc-90f9-1a1b861fbfdd",
        "colab": {
          "base_uri": "https://localhost:8080/",
          "height": 35
        }
      },
      "source": [
        "X1.shape"
      ],
      "execution_count": 65,
      "outputs": [
        {
          "output_type": "execute_result",
          "data": {
            "text/plain": [
              "(500, 100)"
            ]
          },
          "metadata": {
            "tags": []
          },
          "execution_count": 65
        }
      ]
    },
    {
      "cell_type": "code",
      "metadata": {
        "id": "GbbjfRN207fa",
        "colab_type": "code",
        "outputId": "bb4f723d-9e33-43c8-ef9c-ab72885c80de",
        "colab": {
          "base_uri": "https://localhost:8080/",
          "height": 35
        }
      },
      "source": [
        "f4 = open('8Threads.txt', 'r')\n",
        "X8 = np.zeros((500,100))\n",
        "count = 0\n",
        "for row in f4.readlines():\n",
        "  row = row.split('\\n')\n",
        "  # print(row)\n",
        "  for i in row:\n",
        "    index = 0\n",
        "    for j in i.split():\n",
        "      # print(j)\n",
        "      X8[count][index] = j\n",
        "      index+=1\n",
        "  # print(row.split())\n",
        "  count+=1\n",
        "print(count)"
      ],
      "execution_count": 66,
      "outputs": [
        {
          "output_type": "stream",
          "text": [
            "500\n"
          ],
          "name": "stdout"
        }
      ]
    },
    {
      "cell_type": "code",
      "metadata": {
        "id": "SEg9OEYd2qca",
        "colab_type": "code",
        "outputId": "104e41ab-2b2c-41e9-ed99-141356bf37e0",
        "colab": {
          "base_uri": "https://localhost:8080/",
          "height": 35
        }
      },
      "source": [
        "f5 = open('24Threads.txt', 'r')\n",
        "X24 = np.zeros((500,100))\n",
        "count = 0\n",
        "for row in f5.readlines():\n",
        "  row = row.split('\\n')\n",
        "  # print(row)\n",
        "  for i in row:\n",
        "    index = 0\n",
        "    for j in i.split():\n",
        "      # print(j)\n",
        "      X24[count][index] = j\n",
        "      index+=1\n",
        "  # print(row.split())\n",
        "  count+=1\n",
        "print(count)"
      ],
      "execution_count": 67,
      "outputs": [
        {
          "output_type": "stream",
          "text": [
            "500\n"
          ],
          "name": "stdout"
        }
      ]
    },
    {
      "cell_type": "code",
      "metadata": {
        "id": "Up4e4sespDUZ",
        "colab_type": "code",
        "colab": {}
      },
      "source": [
        "f2 = open('A.txt', 'r')"
      ],
      "execution_count": 0,
      "outputs": []
    },
    {
      "cell_type": "code",
      "metadata": {
        "id": "UlB_bYWNpK0Q",
        "colab_type": "code",
        "outputId": "4d151b85-f283-4c63-9d29-9e3447d72b54",
        "colab": {
          "base_uri": "https://localhost:8080/",
          "height": 35
        }
      },
      "source": [
        "A = np.zeros((300,100))\n",
        "count = 0\n",
        "for row in f2.readlines():\n",
        "  row = row.split('\\n')\n",
        "  # print(row)\n",
        "  for i in row:\n",
        "    index = 0\n",
        "    for j in i.split():\n",
        "      # print(j)\n",
        "      A[count][index] = j\n",
        "      index+=1\n",
        "  # print(row.split())\n",
        "  count+=1\n",
        "print(count)"
      ],
      "execution_count": 69,
      "outputs": [
        {
          "output_type": "stream",
          "text": [
            "300\n"
          ],
          "name": "stdout"
        }
      ]
    },
    {
      "cell_type": "code",
      "metadata": {
        "id": "faGuyhP4piM1",
        "colab_type": "code",
        "outputId": "39a4b8fd-8f5e-4527-f855-c7fdc4df0a0c",
        "colab": {
          "base_uri": "https://localhost:8080/",
          "height": 146
        }
      },
      "source": [
        "print(A)"
      ],
      "execution_count": 70,
      "outputs": [
        {
          "output_type": "stream",
          "text": [
            "[[ 0.  0.  0. ...  0.  0.  0.]\n",
            " [ 0.  0.  0. ...  0.  0.  0.]\n",
            " [ 0.  0. 66. ...  0.  0.  0.]\n",
            " ...\n",
            " [ 0.  0.  0. ...  0.  0.  0.]\n",
            " [ 0.  0.  0. ...  0.  0. 33.]\n",
            " [ 0.  0.  0. ...  0.  0.  0.]]\n"
          ],
          "name": "stdout"
        }
      ]
    },
    {
      "cell_type": "code",
      "metadata": {
        "id": "AILEqY3vpyG5",
        "colab_type": "code",
        "colab": {}
      },
      "source": [
        "f3 = open('B.txt', 'r')"
      ],
      "execution_count": 0,
      "outputs": []
    },
    {
      "cell_type": "code",
      "metadata": {
        "id": "bxEP6PFRp8zy",
        "colab_type": "code",
        "outputId": "c9b89715-09cf-48e2-a06c-c93c30b042ba",
        "colab": {
          "base_uri": "https://localhost:8080/",
          "height": 35
        }
      },
      "source": [
        "B = np.zeros((300,))\n",
        "count = 0\n",
        "for row in f3.readlines():\n",
        "  # row = row.split('\\n')\n",
        "  # print(row)\n",
        "  list_row = row.split()\n",
        "  index = 0\n",
        "  for i in list_row:\n",
        "    B[index] = i\n",
        "    index+=1\n",
        "    # index = 0\n",
        "    # for j in i.split():\n",
        "    #   # print(j)\n",
        "    #   B[index] = j\n",
        "    #   index+=1\n",
        "  # print(row.split())\n",
        "  count+=1\n",
        "print(count)"
      ],
      "execution_count": 72,
      "outputs": [
        {
          "output_type": "stream",
          "text": [
            "1\n"
          ],
          "name": "stdout"
        }
      ]
    },
    {
      "cell_type": "code",
      "metadata": {
        "id": "SnUsdMg1qJBz",
        "colab_type": "code",
        "outputId": "4c2fb43e-df4d-487a-9866-7c25b2907c6a",
        "colab": {
          "base_uri": "https://localhost:8080/",
          "height": 421
        }
      },
      "source": [
        "print(B)"
      ],
      "execution_count": 73,
      "outputs": [
        {
          "output_type": "stream",
          "text": [
            "[ 66.  96.  83.  23.  23.  17.  79.  93.  75.  26.  64.  90.  12.  61.\n",
            "  23.  68.  89.  18.  78.  45.  67.  13.  65.  40.  99.   6.  34.  29.\n",
            "  25.  25.  17.  90.  20.  99.  64.  95.  67.  42.  87.  93.  19.  51.\n",
            "  82.  83.  63.  56.  50.   3.  74.  79. 100.  40.  91.  16.  31.  41.\n",
            "  21.  64.  70.  45.  88.  86.  86.  60.  36.  50.  54.   3.  91.  92.\n",
            "  95.  10.  94.  29.  92.  56.  84.  93.  11.   9.  71.  10.  48.  61.\n",
            "  77.  79.   1.  97.  42.  70.  41.  82.   7.  78.  41.  43.  27.  46.\n",
            "  97.  70.  37.  91.  79.  31.  71.  22.  38.   7.  14. 100.  15.  36.\n",
            "  61.  63.  96.  37.  41.  48.  33.  34.  70.  25.  67.  76.   3.  59.\n",
            "  70.  81.   4.  66.  50.  93.   9.  80.  23.  31.  53.  12.  37.  66.\n",
            "  12.  52.  53.  72.  14.  48.   9.   6.  48.  93.  91.  69.  18.  58.\n",
            "  96.  72.  68.  66.  52.  72.  83.  54.  64.  43.  33.  38.  74.  86.\n",
            "   1.  10.   3.  12.  61.  56.  36.  74.  55.  44.  31.  54.  36.  22.\n",
            "  22.   5.  31.  18.  76.  50.  35.  80.  21.  17.  85.  36.  60.  69.\n",
            "  25.  33.  54.  26.  42.   9.  89.  55.  16.  24.  28.  70.  19.  11.\n",
            "  76.  55.  84.  97.  11.  14.  66.  39.  63. 100.  18.  36.  69.  54.\n",
            "  23.  28.  22. 100.  12.  28.  77.   5.  36.  65.  11.   3.  89.  91.\n",
            "  24.   7.   1.  99.  13.  84.  96.  24.  49.  13.  62.  63.  13.  31.\n",
            "  50.  81.  84.  73.  60.  57.  24.  23.  84. 100.  79.  71.  64.  90.\n",
            "  73.   4.  80.  97.  63.  80.  95.  75.  15.  42.  50.  63.  55.  63.\n",
            "  25.  19.  45.  75.  99.  80.  99.  10.  37.  22.  84.  20.  73.  14.\n",
            "  91.  36.   3.  15.  40.  34.]\n"
          ],
          "name": "stdout"
        }
      ]
    },
    {
      "cell_type": "code",
      "metadata": {
        "id": "J0iJbVpqry1s",
        "colab_type": "code",
        "outputId": "0dca164c-e704-461a-83fe-a1242d21a845",
        "colab": {
          "base_uri": "https://localhost:8080/",
          "height": 72
        }
      },
      "source": [
        "print('X',X.shape)\n",
        "print('A',A.shape)\n",
        "print('B',B.shape)"
      ],
      "execution_count": 80,
      "outputs": [
        {
          "output_type": "stream",
          "text": [
            "X (500, 100)\n",
            "A (300, 100)\n",
            "B (300,)\n"
          ],
          "name": "stdout"
        }
      ]
    },
    {
      "cell_type": "code",
      "metadata": {
        "id": "voo00mkTkte0",
        "colab_type": "code",
        "colab": {}
      },
      "source": [
        "#Pass one row of arr, one vector \n",
        "def LassoLoss(X):\n",
        "  regulariser = 1\n",
        "  OLS = np.inner( A@X - B, A@X - B)*0.5 + regulariser*np.linalg.norm(X,ord=1)\n",
        "  return OLS"
      ],
      "execution_count": 0,
      "outputs": []
    },
    {
      "cell_type": "code",
      "metadata": {
        "id": "NeBhfODkrk6I",
        "colab_type": "code",
        "outputId": "1a5b5009-d667-4c34-ad3e-afe53244a24f",
        "colab": {
          "base_uri": "https://localhost:8080/",
          "height": 72
        }
      },
      "source": [
        "print(X1[0].shape)\n",
        "print(A[0].shape)\n",
        "LassoLoss(X1[200])"
      ],
      "execution_count": 85,
      "outputs": [
        {
          "output_type": "stream",
          "text": [
            "(100,)\n",
            "(100,)\n"
          ],
          "name": "stdout"
        },
        {
          "output_type": "execute_result",
          "data": {
            "text/plain": [
              "nan"
            ]
          },
          "metadata": {
            "tags": []
          },
          "execution_count": 85
        }
      ]
    },
    {
      "cell_type": "code",
      "metadata": {
        "id": "TiYkCRICroPU",
        "colab_type": "code",
        "outputId": "79f0dd4c-0910-4130-9772-71356ebd1786",
        "colab": {
          "base_uri": "https://localhost:8080/",
          "height": 283
        }
      },
      "source": [
        "import matplotlib.pyplot as plt \n",
        "x_axis = []\n",
        "y_axis1 = []\n",
        "y_axis8 = []\n",
        "y_axis24 = []\n",
        "for i in range(500):\n",
        "  x_axis.append(i)\n",
        "  y_axis1.append(LassoLoss(X1[i]))\n",
        "  y_axis8.append(LassoLoss(X8[i]))\n",
        "  y_axis24.append(LassoLoss(X24[i]))\n",
        "plt.plot(x_axis, y_axis1, label = 'tau=1') \n",
        "plt.plot(x_axis, y_axis8, label = 'tau=8')\n",
        "plt.plot(x_axis, y_axis24, label = 'tau=24')\n",
        "plt.legend()"
      ],
      "execution_count": 83,
      "outputs": [
        {
          "output_type": "execute_result",
          "data": {
            "text/plain": [
              "<matplotlib.legend.Legend at 0x7f81e33b0f60>"
            ]
          },
          "metadata": {
            "tags": []
          },
          "execution_count": 83
        },
        {
          "output_type": "display_data",
          "data": {
            "image/png": "[encoded data removed]",
            "text/plain": [
              "<Figure size 432x288 with 1 Axes>"
            ]
          },
          "metadata": {
            "tags": [],
            "needs_background": "light"
          }
        }
      ]
    },
    {
      "cell_type": "code",
      "metadata": {
        "id": "16jjae7yz3jk",
        "colab_type": "code",
        "colab": {}
      },
      "source": [
        ""
      ],
      "execution_count": 0,
      "outputs": []
    }
  ]
}